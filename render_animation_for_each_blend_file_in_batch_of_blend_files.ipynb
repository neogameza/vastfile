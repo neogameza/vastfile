{
 "cells": [
  {
   "cell_type": "code",
   "execution_count": null,
   "id": "7b8a316b-51a6-4648-9655-6b588c6c31ef",
   "metadata": {},
   "outputs": [],
   "source": [
    "blend_files=$(ls *.blend)"
   ]
  },
  {
   "cell_type": "code",
   "execution_count": null,
   "id": "c4c2eeda-e5e7-4701-be00-4ee3bbf7b126",
   "metadata": {},
   "outputs": [],
   "source": [
    "for blend_file in *.blend\n",
    "do\n",
    "    echo \"Auto-selecting best device for $blend_file\"\n",
    "    blender -b \"$blend_file\" \\\n",
    "    --python-expr \"\n",
    "import bpy\n",
    "prefs = bpy.context.preferences.addons['cycles'].preferences\n",
    "prefs.refresh_devices()\n",
    "\n",
    "# check_device_types OPTIX > CUDA > CPU\n",
    "device_types = [d.type for d in prefs.devices]\n",
    "if 'OPTIX' in device_types:\n",
    "    prefs.compute_device_type = 'OPTIX'\n",
    "    prefs.refresh_devices()\n",
    "    [setattr(d, 'use', True) for d in prefs.devices if d.type == 'OPTIX']\n",
    "    print('✅ Using OPTIX GPU')\n",
    "elif 'CUDA' in device_types:\n",
    "    prefs.compute_device_type = 'CUDA'\n",
    "    prefs.refresh_devices()\n",
    "    [setattr(d, 'use', True) for d in prefs.devices if d.type == 'CUDA']\n",
    "    print('✅ Using CUDA GPU')\n",
    "else:\n",
    "    prefs.compute_device_type = 'NONE'\n",
    "    [setattr(d, 'use', True) for d in prefs.devices if d.type == 'CPU']\n",
    "    print('⚠️ No GPU found, using CPU')\n",
    "\n",
    "bpy.context.scene.cycles.device = 'GPU'\n",
    "\" \\\n",
    "    -o //\"${blend_file}_\" -a\n",
    "done\n"
   ]
  },
  {
   "cell_type": "code",
   "execution_count": null,
   "id": "df852211-cc92-4261-866c-88b85434334e",
   "metadata": {},
   "outputs": [],
   "source": []
  }
 ],
 "metadata": {
  "kernelspec": {
   "display_name": "Bash",
   "language": "bash",
   "name": "bash"
  },
  "language_info": {
   "codemirror_mode": "shell",
   "file_extension": ".sh",
   "mimetype": "text/x-sh",
   "name": "bash"
  }
 },
 "nbformat": 4,
 "nbformat_minor": 5
}
